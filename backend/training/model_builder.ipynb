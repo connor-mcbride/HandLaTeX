{
  "cells": [
    {
      "cell_type": "code",
      "execution_count": 1,
      "metadata": {
        "id": "HpXwKpENHCT4"
      },
      "outputs": [],
      "source": [
        "import os\n",
        "import csv\n",
        "import json\n",
        "import numpy as np\n",
        "from collections import Counter\n",
        "\n",
        "import torch\n",
        "import torch.nn as nn\n",
        "import torch.optim as optim\n",
        "from torch.nn.utils.rnn import pad_sequence\n",
        "from torch.utils.data import Dataset, DataLoader\n",
        "from tqdm import tqdm\n",
        "\n",
        "from sklearn.model_selection import train_test_split\n",
        "import matplotlib.pyplot as plt"
      ]
    },
    {
      "cell_type": "code",
      "execution_count": 8,
      "metadata": {
        "colab": {
          "base_uri": "https://localhost:8080/"
        },
        "id": "zU8oqVHzHCT6",
        "outputId": "9265f5ca-ea19-4d19-eb3f-42ebdbca68db"
      },
      "outputs": [
        {
          "name": "stdout",
          "output_type": "stream",
          "text": [
            "Running on cuda\n"
          ]
        }
      ],
      "source": [
        "device = torch.device(\"cuda\" if torch.cuda.is_available() else \"cpu\")\n",
        "print(f\"Running on {device}\")"
      ]
    },
    {
      "cell_type": "code",
      "execution_count": 2,
      "metadata": {
        "id": "Nqals3_OHCT7"
      },
      "outputs": [],
      "source": [
        "# Load in stroke data from a csv\n",
        "cousin_directory_path = os.path.join(os.getcwd(), '..', 'training_data')\n",
        "cousin_directory_path = os.path.abspath(cousin_directory_path)\n",
        "\n",
        "stroke_data_filename = 'normalized_strokes.csv'\n",
        "csv_file_path = os.path.join(cousin_directory_path, stroke_data_filename)"
      ]
    },
    {
      "cell_type": "markdown",
      "metadata": {
        "id": "TQulsv7IHCT7"
      },
      "source": [
        "The dataset has string representations for each label. We create a mapping between each unique string to a unique integer."
      ]
    },
    {
      "cell_type": "code",
      "execution_count": 4,
      "metadata": {
        "colab": {
          "base_uri": "https://localhost:8080/"
        },
        "id": "LhJqdlBIHCT8",
        "outputId": "1c7322a1-2055-40aa-d0ed-a9c214c03a38"
      },
      "outputs": [],
      "source": [
        "unique_labels = set()\n",
        "\n",
        "with open(csv_file_path, mode='r') as file:\n",
        "    csv_reader = csv.reader(file)\n",
        "    next(csv_reader)  # Skip header\n",
        "    for row in csv_reader:\n",
        "        label = row[1]\n",
        "        unique_labels.add(label)\n",
        "\n",
        "\n",
        "sorted_labels = sorted(list(unique_labels))\n",
        "\n",
        "label_to_index = {label: index for index, label in enumerate(sorted_labels)}\n",
        "index_to_label = {index: label for label, index in label_to_index.items()}\n",
        "\n",
        "# Save the label mappings to a JSON file\n",
        "label_mapping_filename = 'label_mapping.json'\n",
        "label_mapping_path = os.path.join(cousin_directory_path, label_mapping_filename)\n",
        "\n",
        "with open(label_mapping_path, 'w') as json_file:\n",
        "    json.dump(index_to_label, json_file)"
      ]
    },
    {
      "cell_type": "markdown",
      "metadata": {
        "id": "dEbWedWlHCT8"
      },
      "source": [
        "Create dataset for stroke data"
      ]
    },
    {
      "cell_type": "code",
      "execution_count": 5,
      "metadata": {
        "id": "lZykBm34HCT8"
      },
      "outputs": [],
      "source": [
        "class StrokeDataset(Dataset):\n",
        "    def __init__(self, csv_file, label_mapping):\n",
        "        \"\"\"\n",
        "        Args:\n",
        "            csv_file (str): Path to the csv file with stroke data.\n",
        "            label_mapping (dict): Mapping from string labels to integer indices.\n",
        "        \"\"\"\n",
        "        super().__init__()\n",
        "        self.data = []\n",
        "        self.labels = []\n",
        "        self.label_mapping = label_mapping\n",
        "\n",
        "        with open(csv_file, mode='r') as file:\n",
        "            csv_reader = csv.reader(file)\n",
        "            next(csv_reader)  # Skip header\n",
        "            for row in csv_reader:\n",
        "                label_str = row[1]\n",
        "                stroke_points = row[2]\n",
        "\n",
        "                # Convert stroke points from string to float tuples\n",
        "                stroke_points = json.loads(stroke_points)\n",
        "                self.data.append(stroke_points)\n",
        "                self.labels.append(self.label_mapping[label_str])\n",
        "\n",
        "    def __len__(self):\n",
        "        return len(self.data)\n",
        "\n",
        "    def __getitem__(self, index):\n",
        "        stroke = np.array(self.data[index], dtype=np.float32)\n",
        "        label = self.labels[index]\n",
        "\n",
        "        return stroke, label"
      ]
    },
    {
      "cell_type": "code",
      "execution_count": 6,
      "metadata": {
        "id": "GnMBOzn9HCT9"
      },
      "outputs": [],
      "source": [
        "class SubsetStrokeDataset(Dataset):\n",
        "    def __init__(self, data, labels):\n",
        "        super().__init__()\n",
        "        self.data = data\n",
        "        self.labels = labels\n",
        "\n",
        "    def __len__(self):\n",
        "        return len(self.data)\n",
        "\n",
        "    def __getitem__(self, index):\n",
        "        stroke = np.array(self.data[index], dtype=np.float32)\n",
        "        label = self.labels[index]\n",
        "\n",
        "        return stroke, label"
      ]
    },
    {
      "cell_type": "code",
      "execution_count": 7,
      "metadata": {
        "id": "gfVGF_nSHCT9"
      },
      "outputs": [],
      "source": [
        "dataset = StrokeDataset(csv_file_path, label_to_index)"
      ]
    },
    {
      "cell_type": "code",
      "execution_count": 9,
      "metadata": {
        "colab": {
          "base_uri": "https://localhost:8080/"
        },
        "id": "6H1M1MtXHCT9",
        "outputId": "e7c52638-9907-4cfc-ce7b-40c6e48c5006"
      },
      "outputs": [
        {
          "name": "stdout",
          "output_type": "stream",
          "text": [
            "Classes with fewer than 2 samples in temp_labels: [729, 237, 330, 845, 208, 170, 955, 286, 219, 1076, 829, 337, 154, 55, 910, 341, 673, 892, 963, 789, 805, 972, 117, 1082, 152, 272, 859, 216, 971, 228, 383, 848, 98]\n",
            "Moved 33 samples to the training set to ensure all classes in temp_labels have at least 2 samples.\n",
            "Final dataset sizes:\n",
            " - Training: 147350 samples\n",
            " - Validation: 31552 samples\n",
            " - Testing: 31552 samples\n"
          ]
        }
      ],
      "source": [
        "train_size = 0.7\n",
        "val_size = 0.15\n",
        "test_size = 0.15\n",
        "\n",
        "train_data, temp_data, train_labels, temp_labels = train_test_split(\n",
        "    dataset.data, dataset.labels,\n",
        "    train_size=train_size,\n",
        "    random_state=42,\n",
        "    stratify=dataset.labels\n",
        ")\n",
        "\n",
        "counter_temp = Counter(temp_labels)\n",
        "insufficient_classes = [cls for cls, count in counter_temp.items() if count < 2]\n",
        "print(\"Classes with fewer than 2 samples in temp_labels:\", insufficient_classes)\n",
        "\n",
        "if insufficient_classes:\n",
        "    indices_to_move = [i for i, label in enumerate(temp_labels) if label in insufficient_classes]\n",
        "\n",
        "    # Reassign these samples to the training set\n",
        "    for idx in sorted(indices_to_move, reverse=True):\n",
        "        train_data.append(temp_data.pop(idx))\n",
        "        train_labels.append(temp_labels.pop(idx))\n",
        "\n",
        "    print(f\"Moved {len(indices_to_move)} samples to the training set to ensure all classes in temp_labels have at least 2 samples.\")\n",
        "\n",
        "val_data, test_data, val_labels, test_labels = train_test_split(\n",
        "    temp_data, temp_labels,\n",
        "    train_size=val_size / (val_size + test_size),\n",
        "    random_state=42,\n",
        "    stratify=temp_labels\n",
        ")\n",
        "\n",
        "train_dataset = SubsetStrokeDataset(train_data, train_labels)\n",
        "val_dataset = SubsetStrokeDataset(val_data, val_labels)\n",
        "test_dataset = SubsetStrokeDataset(test_data, test_labels)\n",
        "\n",
        "print(f\"Final dataset sizes:\\n\"\n",
        "      f\" - Training: {len(train_dataset)} samples\\n\"\n",
        "      f\" - Validation: {len(val_dataset)} samples\\n\"\n",
        "      f\" - Testing: {len(test_dataset)} samples\")"
      ]
    },
    {
      "cell_type": "code",
      "execution_count": 10,
      "metadata": {
        "id": "1hvGlDzpHCT9"
      },
      "outputs": [],
      "source": [
        "def collate_fn(batch):\n",
        "    \"\"\"\n",
        "    Handles variable length sequences in stroke data by padding them with zeros.\n",
        "\n",
        "    Args:\n",
        "        batch (List[Tuple]): Each tuple contains (stroke, label).\n",
        "\n",
        "    Returns:\n",
        "        padded_strokes (torch.Tensor): Tensor of shape (batch_size, max_seq_length, 2).\n",
        "        labels (torch.Tensor): Tensor of shape (batch_size,).\n",
        "    \"\"\"\n",
        "    strokes, labels = zip(*batch)\n",
        "    strokes = [torch.tensor(stroke, dtype=torch.float32) for stroke in strokes]\n",
        "\n",
        "    # Pad sequences with zeros to amke sure each stroke is the same length\n",
        "    padded_strokes = pad_sequence(strokes, batch_first=True, padding_value=0.0)\n",
        "    labels = torch.tensor(labels, dtype=torch.long)\n",
        "\n",
        "    return padded_strokes, labels"
      ]
    },
    {
      "cell_type": "code",
      "execution_count": 11,
      "metadata": {
        "id": "uBYpv35sHCT-"
      },
      "outputs": [],
      "source": [
        "# Create dataloaders\n",
        "batch_size = 32\n",
        "\n",
        "train_loader = DataLoader(\n",
        "    train_dataset,\n",
        "    batch_size=batch_size,\n",
        "    shuffle=True,\n",
        "    drop_last=True,\n",
        "    collate_fn=collate_fn\n",
        ")\n",
        "\n",
        "val_loader = DataLoader(\n",
        "    val_dataset,\n",
        "    batch_size=batch_size,\n",
        "    shuffle=False,\n",
        "    drop_last=False,\n",
        "    collate_fn=collate_fn\n",
        ")\n",
        "\n",
        "test_loader = DataLoader(\n",
        "    test_dataset,\n",
        "    batch_size=batch_size,\n",
        "    shuffle=False,\n",
        "    drop_last=False,\n",
        "    collate_fn=collate_fn\n",
        ")"
      ]
    },
    {
      "cell_type": "code",
      "execution_count": 12,
      "metadata": {
        "id": "6tHc0DpjHCT-"
      },
      "outputs": [],
      "source": [
        "class StrokeLSTMClassifier(nn.Module):\n",
        "    def __init__(self, input_size=3, hidden_size=128, num_layers=2, num_classes=10, dropout=0.3, bidirectional=True):\n",
        "        \"\"\"\n",
        "        Args:\n",
        "            input_size (int): Number of input features per time step (e.g., 2 for x and y).\n",
        "            hidden_size (int): Number of features in the hidden state.\n",
        "            num_layers (int): Number of recurrent layers.\n",
        "            num_classes (int): Number of output classes.\n",
        "            dropout (float): Dropout probability.\n",
        "            bidirectional (bool): If True, becomes a bidirectional LSTM.\n",
        "        \"\"\"\n",
        "        super().__init__()\n",
        "        self.hidden_size = hidden_size\n",
        "        self.num_layers = num_layers\n",
        "        self.bidirectional = bidirectional\n",
        "\n",
        "        # LSTM layer\n",
        "        self.lstm = nn.LSTM(input_size, hidden_size, num_layers,\n",
        "                            batch_first=True, dropout=dropout, bidirectional=bidirectional)\n",
        "\n",
        "        # Dropout layer\n",
        "        self.dropout = nn.Dropout(dropout)\n",
        "\n",
        "        # Fully Connected Layer\n",
        "        self.fc = nn.Linear(hidden_size * 2 if bidirectional else hidden_size, num_classes)\n",
        "\n",
        "    def forward(self, x):\n",
        "        \"\"\"\n",
        "        Args:\n",
        "            x (torch.Tensor): Padded input tensor of shape (batch_size, seq_length, input_size)\n",
        "\n",
        "        Returns:\n",
        "            out (torch.Tensor): Output logits of shape (batch_size, num_classes)\n",
        "        \"\"\"\n",
        "        h0 = torch.zeros(self.num_layers * (2 if self.bidirectional else 1),\n",
        "                         x.size(0), self.hidden_size).to(x.device)\n",
        "        c0 = torch.zeros(self.num_layers * (2 if self.bidirectional else 1),\n",
        "                         x.size(0), self.hidden_size).to(x.device)\n",
        "\n",
        "        # Forward propagate through LSTM\n",
        "        out, _ = self.lstm(x, (h0, c0))\n",
        "\n",
        "        # Take the output from the last time step\n",
        "        out = out[:, -1, :]\n",
        "\n",
        "        out = self.dropout(out)\n",
        "        out = self.fc(out)\n",
        "        return out"
      ]
    },
    {
      "cell_type": "code",
      "execution_count": 13,
      "metadata": {
        "id": "PyOgbZ3hHCT-"
      },
      "outputs": [],
      "source": [
        "num_classes = len(sorted_labels)\n",
        "\n",
        "model = StrokeLSTMClassifier(\n",
        "    input_size=3,\n",
        "    hidden_size=128,\n",
        "    num_layers=2,\n",
        "    num_classes=num_classes,\n",
        "    dropout=0.3,\n",
        "    bidirectional=True\n",
        ").to(device)\n",
        "\n",
        "loss_fn = nn.CrossEntropyLoss()\n",
        "optimizer = optim.Adam(model.parameters(), lr=0.001)\n",
        "scheduler = optim.lr_scheduler.StepLR(optimizer, step_size=10, gamma=0.1)"
      ]
    },
    {
      "cell_type": "code",
      "execution_count": 14,
      "metadata": {
        "id": "5dFh1sZiHCT-"
      },
      "outputs": [],
      "source": [
        "def train(model, optimizer, scheduler, loss_fn, train_loader, val_loader, num_epochs):\n",
        "    best_val_loss = float('inf')\n",
        "    train_losses = []\n",
        "    train_accuracies = []\n",
        "    val_losses = []\n",
        "    val_accuracies = []\n",
        "\n",
        "    for epoch in range(1, num_epochs + 1):\n",
        "        # Training phase\n",
        "        model.train()\n",
        "        train_loss = 0.0\n",
        "        correct = 0\n",
        "        total = 0\n",
        "\n",
        "        for strokes, labels in tqdm(train_loader, desc=f'Epoch {epoch} - Training'):\n",
        "            strokes, labels = strokes.to(device), labels.to(device)\n",
        "\n",
        "            optimizer.zero_grad()\n",
        "            outputs = model(strokes)\n",
        "            loss = loss_fn(outputs, labels)\n",
        "            loss.backward()\n",
        "            optimizer.step()\n",
        "\n",
        "            train_loss += loss.item() * strokes.size(0)\n",
        "            _, predicted = torch.max(outputs, 1)\n",
        "            total += labels.size(0)\n",
        "            correct += (predicted == labels).sum().item()\n",
        "\n",
        "        # Record average train loss and accuracy in the batch\n",
        "        train_losses.append(train_loss / total)\n",
        "        train_accuracies.append(correct / total)\n",
        "\n",
        "        # Validation Phase\n",
        "        model.eval()\n",
        "        val_loss = 0.0\n",
        "        correct = 0\n",
        "        total = 0\n",
        "\n",
        "        with torch.no_grad():\n",
        "            for strokes, labels in tqdm(val_loader, desc=f'Epoch {epoch} - Validation'):\n",
        "                strokes, labels = strokes.to(device), labels.to(device)\n",
        "                outputs = model(strokes)\n",
        "                loss = loss_fn(outputs, labels)\n",
        "\n",
        "                val_loss += loss.item() * strokes.size(0)\n",
        "                _, predicted = torch.max(outputs, 1)\n",
        "                total += labels.size(0)\n",
        "                correct += (predicted == labels).sum().item()\n",
        "\n",
        "        # Record average val loss and accuracy in the batch\n",
        "        avg_val_loss = val_loss / total\n",
        "        val_losses.append(avg_val_loss)\n",
        "        val_accuracies.append(correct / total)\n",
        "\n",
        "        scheduler.step()\n",
        "\n",
        "        # Save the best model\n",
        "        if avg_val_loss < best_val_loss:\n",
        "            best_val_loss = avg_val_loss\n",
        "            torch.save(model.state_dict(), 'lstm_model.pth')\n",
        "            print(f'Best model saved at epoch {epoch}.')\n",
        "\n",
        "    return train_losses, train_accuracies, val_losses, val_accuracies"
      ]
    },
    {
      "cell_type": "code",
      "execution_count": 15,
      "metadata": {
        "colab": {
          "base_uri": "https://localhost:8080/"
        },
        "id": "rXsqM-cZHCT-",
        "outputId": "89cd2187-7d6d-4c28-ee21-074dc1a74be8"
      },
      "outputs": [
        {
          "name": "stderr",
          "output_type": "stream",
          "text": [
            "Epoch 1 - Training: 100%|██████████| 4604/4604 [02:13<00:00, 34.41it/s]\n",
            "Epoch 1 - Validation: 100%|██████████| 986/986 [00:12<00:00, 81.83it/s]\n"
          ]
        },
        {
          "name": "stdout",
          "output_type": "stream",
          "text": [
            "Best model saved at epoch 1.\n"
          ]
        },
        {
          "name": "stderr",
          "output_type": "stream",
          "text": [
            "Epoch 2 - Training: 100%|██████████| 4604/4604 [02:14<00:00, 34.20it/s]\n",
            "Epoch 2 - Validation: 100%|██████████| 986/986 [00:11<00:00, 82.95it/s]\n"
          ]
        },
        {
          "name": "stdout",
          "output_type": "stream",
          "text": [
            "Best model saved at epoch 2.\n"
          ]
        },
        {
          "name": "stderr",
          "output_type": "stream",
          "text": [
            "Epoch 3 - Training: 100%|██████████| 4604/4604 [02:14<00:00, 34.35it/s]\n",
            "Epoch 3 - Validation: 100%|██████████| 986/986 [00:12<00:00, 81.79it/s]\n"
          ]
        },
        {
          "name": "stdout",
          "output_type": "stream",
          "text": [
            "Best model saved at epoch 3.\n"
          ]
        },
        {
          "name": "stderr",
          "output_type": "stream",
          "text": [
            "Epoch 4 - Training: 100%|██████████| 4604/4604 [02:14<00:00, 34.31it/s]\n",
            "Epoch 4 - Validation: 100%|██████████| 986/986 [00:11<00:00, 83.80it/s]\n"
          ]
        },
        {
          "name": "stdout",
          "output_type": "stream",
          "text": [
            "Best model saved at epoch 4.\n"
          ]
        },
        {
          "name": "stderr",
          "output_type": "stream",
          "text": [
            "Epoch 5 - Training: 100%|██████████| 4604/4604 [02:14<00:00, 34.34it/s]\n",
            "Epoch 5 - Validation: 100%|██████████| 986/986 [00:12<00:00, 81.74it/s]\n"
          ]
        },
        {
          "name": "stdout",
          "output_type": "stream",
          "text": [
            "Best model saved at epoch 5.\n"
          ]
        },
        {
          "name": "stderr",
          "output_type": "stream",
          "text": [
            "Epoch 6 - Training: 100%|██████████| 4604/4604 [02:14<00:00, 34.27it/s]\n",
            "Epoch 6 - Validation: 100%|██████████| 986/986 [00:11<00:00, 83.76it/s]\n"
          ]
        },
        {
          "name": "stdout",
          "output_type": "stream",
          "text": [
            "Best model saved at epoch 6.\n"
          ]
        },
        {
          "name": "stderr",
          "output_type": "stream",
          "text": [
            "Epoch 7 - Training: 100%|██████████| 4604/4604 [02:14<00:00, 34.30it/s]\n",
            "Epoch 7 - Validation: 100%|██████████| 986/986 [00:12<00:00, 81.74it/s]\n"
          ]
        },
        {
          "name": "stdout",
          "output_type": "stream",
          "text": [
            "Best model saved at epoch 7.\n"
          ]
        },
        {
          "name": "stderr",
          "output_type": "stream",
          "text": [
            "Epoch 8 - Training: 100%|██████████| 4604/4604 [02:14<00:00, 34.23it/s]\n",
            "Epoch 8 - Validation: 100%|██████████| 986/986 [00:11<00:00, 83.95it/s]\n"
          ]
        },
        {
          "name": "stdout",
          "output_type": "stream",
          "text": [
            "Best model saved at epoch 8.\n"
          ]
        },
        {
          "name": "stderr",
          "output_type": "stream",
          "text": [
            "Epoch 9 - Training: 100%|██████████| 4604/4604 [02:14<00:00, 34.31it/s]\n",
            "Epoch 9 - Validation: 100%|██████████| 986/986 [00:12<00:00, 81.67it/s]\n"
          ]
        },
        {
          "name": "stdout",
          "output_type": "stream",
          "text": [
            "Best model saved at epoch 9.\n"
          ]
        },
        {
          "name": "stderr",
          "output_type": "stream",
          "text": [
            "Epoch 10 - Training: 100%|██████████| 4604/4604 [02:14<00:00, 34.29it/s]\n",
            "Epoch 10 - Validation: 100%|██████████| 986/986 [00:11<00:00, 83.69it/s]\n"
          ]
        },
        {
          "name": "stdout",
          "output_type": "stream",
          "text": [
            "Best model saved at epoch 10.\n"
          ]
        },
        {
          "name": "stderr",
          "output_type": "stream",
          "text": [
            "Epoch 11 - Training: 100%|██████████| 4604/4604 [02:14<00:00, 34.33it/s]\n",
            "Epoch 11 - Validation: 100%|██████████| 986/986 [00:12<00:00, 81.51it/s]\n"
          ]
        },
        {
          "name": "stdout",
          "output_type": "stream",
          "text": [
            "Best model saved at epoch 11.\n"
          ]
        },
        {
          "name": "stderr",
          "output_type": "stream",
          "text": [
            "Epoch 12 - Training: 100%|██████████| 4604/4604 [02:14<00:00, 34.22it/s]\n",
            "Epoch 12 - Validation: 100%|██████████| 986/986 [00:11<00:00, 82.26it/s]\n"
          ]
        },
        {
          "name": "stdout",
          "output_type": "stream",
          "text": [
            "Best model saved at epoch 12.\n"
          ]
        },
        {
          "name": "stderr",
          "output_type": "stream",
          "text": [
            "Epoch 13 - Training: 100%|██████████| 4604/4604 [02:15<00:00, 34.06it/s]\n",
            "Epoch 13 - Validation: 100%|██████████| 986/986 [00:12<00:00, 80.48it/s]\n"
          ]
        },
        {
          "name": "stdout",
          "output_type": "stream",
          "text": [
            "Best model saved at epoch 13.\n"
          ]
        },
        {
          "name": "stderr",
          "output_type": "stream",
          "text": [
            "Epoch 14 - Training: 100%|██████████| 4604/4604 [02:13<00:00, 34.39it/s]\n",
            "Epoch 14 - Validation: 100%|██████████| 986/986 [00:12<00:00, 81.48it/s]\n"
          ]
        },
        {
          "name": "stdout",
          "output_type": "stream",
          "text": [
            "Best model saved at epoch 14.\n"
          ]
        },
        {
          "name": "stderr",
          "output_type": "stream",
          "text": [
            "Epoch 15 - Training: 100%|██████████| 4604/4604 [02:15<00:00, 34.03it/s]\n",
            "Epoch 15 - Validation: 100%|██████████| 986/986 [00:12<00:00, 81.62it/s]\n"
          ]
        },
        {
          "name": "stdout",
          "output_type": "stream",
          "text": [
            "Best model saved at epoch 15.\n"
          ]
        },
        {
          "name": "stderr",
          "output_type": "stream",
          "text": [
            "Epoch 16 - Training: 100%|██████████| 4604/4604 [02:14<00:00, 34.13it/s]\n",
            "Epoch 16 - Validation: 100%|██████████| 986/986 [00:12<00:00, 81.77it/s]\n"
          ]
        },
        {
          "name": "stdout",
          "output_type": "stream",
          "text": [
            "Best model saved at epoch 16.\n"
          ]
        },
        {
          "name": "stderr",
          "output_type": "stream",
          "text": [
            "Epoch 17 - Training: 100%|██████████| 4604/4604 [02:14<00:00, 34.12it/s]\n",
            "Epoch 17 - Validation: 100%|██████████| 986/986 [00:11<00:00, 82.41it/s]\n"
          ]
        },
        {
          "name": "stdout",
          "output_type": "stream",
          "text": [
            "Best model saved at epoch 17.\n"
          ]
        },
        {
          "name": "stderr",
          "output_type": "stream",
          "text": [
            "Epoch 18 - Training: 100%|██████████| 4604/4604 [02:14<00:00, 34.35it/s]\n",
            "Epoch 18 - Validation: 100%|██████████| 986/986 [00:12<00:00, 81.63it/s]\n"
          ]
        },
        {
          "name": "stdout",
          "output_type": "stream",
          "text": [
            "Best model saved at epoch 18.\n"
          ]
        },
        {
          "name": "stderr",
          "output_type": "stream",
          "text": [
            "Epoch 19 - Training: 100%|██████████| 4604/4604 [02:13<00:00, 34.47it/s]\n",
            "Epoch 19 - Validation: 100%|██████████| 986/986 [00:11<00:00, 83.28it/s]\n"
          ]
        },
        {
          "name": "stdout",
          "output_type": "stream",
          "text": [
            "Best model saved at epoch 19.\n"
          ]
        },
        {
          "name": "stderr",
          "output_type": "stream",
          "text": [
            "Epoch 20 - Training: 100%|██████████| 4604/4604 [02:12<00:00, 34.67it/s]\n",
            "Epoch 20 - Validation: 100%|██████████| 986/986 [00:11<00:00, 84.37it/s]\n"
          ]
        },
        {
          "name": "stdout",
          "output_type": "stream",
          "text": [
            "Best model saved at epoch 20.\n"
          ]
        },
        {
          "name": "stderr",
          "output_type": "stream",
          "text": [
            "Epoch 21 - Training: 100%|██████████| 4604/4604 [02:13<00:00, 34.48it/s]\n",
            "Epoch 21 - Validation: 100%|██████████| 986/986 [00:11<00:00, 83.43it/s]\n"
          ]
        },
        {
          "name": "stdout",
          "output_type": "stream",
          "text": [
            "Best model saved at epoch 21.\n"
          ]
        },
        {
          "name": "stderr",
          "output_type": "stream",
          "text": [
            "Epoch 22 - Training: 100%|██████████| 4604/4604 [02:13<00:00, 34.37it/s]\n",
            "Epoch 22 - Validation: 100%|██████████| 986/986 [00:12<00:00, 82.13it/s]\n"
          ]
        },
        {
          "name": "stdout",
          "output_type": "stream",
          "text": [
            "Best model saved at epoch 22.\n"
          ]
        },
        {
          "name": "stderr",
          "output_type": "stream",
          "text": [
            "Epoch 23 - Training: 100%|██████████| 4604/4604 [02:13<00:00, 34.49it/s]\n",
            "Epoch 23 - Validation: 100%|██████████| 986/986 [00:11<00:00, 83.54it/s]\n",
            "Epoch 24 - Training: 100%|██████████| 4604/4604 [02:13<00:00, 34.46it/s]\n",
            "Epoch 24 - Validation: 100%|██████████| 986/986 [00:11<00:00, 82.56it/s]\n",
            "Epoch 25 - Training: 100%|██████████| 4604/4604 [02:13<00:00, 34.44it/s]\n",
            "Epoch 25 - Validation: 100%|██████████| 986/986 [00:11<00:00, 82.75it/s]\n"
          ]
        },
        {
          "name": "stdout",
          "output_type": "stream",
          "text": [
            "Best model saved at epoch 25.\n"
          ]
        },
        {
          "name": "stderr",
          "output_type": "stream",
          "text": [
            "Epoch 26 - Training: 100%|██████████| 4604/4604 [02:13<00:00, 34.46it/s]\n",
            "Epoch 26 - Validation: 100%|██████████| 986/986 [00:11<00:00, 83.99it/s]\n"
          ]
        },
        {
          "name": "stdout",
          "output_type": "stream",
          "text": [
            "Best model saved at epoch 26.\n"
          ]
        },
        {
          "name": "stderr",
          "output_type": "stream",
          "text": [
            "Epoch 27 - Training: 100%|██████████| 4604/4604 [02:13<00:00, 34.56it/s]\n",
            "Epoch 27 - Validation: 100%|██████████| 986/986 [00:11<00:00, 82.33it/s]\n",
            "Epoch 28 - Training: 100%|██████████| 4604/4604 [02:13<00:00, 34.40it/s]\n",
            "Epoch 28 - Validation: 100%|██████████| 986/986 [00:11<00:00, 82.55it/s]\n"
          ]
        },
        {
          "name": "stdout",
          "output_type": "stream",
          "text": [
            "Best model saved at epoch 28.\n"
          ]
        },
        {
          "name": "stderr",
          "output_type": "stream",
          "text": [
            "Epoch 29 - Training: 100%|██████████| 4604/4604 [02:14<00:00, 34.32it/s]\n",
            "Epoch 29 - Validation: 100%|██████████| 986/986 [00:12<00:00, 79.17it/s]\n"
          ]
        },
        {
          "name": "stdout",
          "output_type": "stream",
          "text": [
            "Best model saved at epoch 29.\n"
          ]
        },
        {
          "name": "stderr",
          "output_type": "stream",
          "text": [
            "Epoch 30 - Training: 100%|██████████| 4604/4604 [02:13<00:00, 34.47it/s]\n",
            "Epoch 30 - Validation: 100%|██████████| 986/986 [00:12<00:00, 81.69it/s]\n"
          ]
        },
        {
          "name": "stdout",
          "output_type": "stream",
          "text": [
            "Best model saved at epoch 30.\n"
          ]
        },
        {
          "name": "stderr",
          "output_type": "stream",
          "text": [
            "Epoch 31 - Training: 100%|██████████| 4604/4604 [02:13<00:00, 34.50it/s]\n",
            "Epoch 31 - Validation: 100%|██████████| 986/986 [00:11<00:00, 84.11it/s]\n"
          ]
        },
        {
          "name": "stdout",
          "output_type": "stream",
          "text": [
            "Best model saved at epoch 31.\n"
          ]
        },
        {
          "name": "stderr",
          "output_type": "stream",
          "text": [
            "Epoch 32 - Training: 100%|██████████| 4604/4604 [02:14<00:00, 34.33it/s]\n",
            "Epoch 32 - Validation: 100%|██████████| 986/986 [00:12<00:00, 82.10it/s]\n",
            "Epoch 33 - Training: 100%|██████████| 4604/4604 [02:13<00:00, 34.39it/s]\n",
            "Epoch 33 - Validation: 100%|██████████| 986/986 [00:11<00:00, 82.49it/s]\n"
          ]
        },
        {
          "name": "stdout",
          "output_type": "stream",
          "text": [
            "Best model saved at epoch 33.\n"
          ]
        },
        {
          "name": "stderr",
          "output_type": "stream",
          "text": [
            "Epoch 34 - Training: 100%|██████████| 4604/4604 [02:14<00:00, 34.24it/s]\n",
            "Epoch 34 - Validation: 100%|██████████| 986/986 [00:11<00:00, 84.09it/s]\n",
            "Epoch 35 - Training: 100%|██████████| 4604/4604 [02:13<00:00, 34.43it/s]\n",
            "Epoch 35 - Validation: 100%|██████████| 986/986 [00:11<00:00, 82.97it/s]\n",
            "Epoch 36 - Training: 100%|██████████| 4604/4604 [02:13<00:00, 34.45it/s]\n",
            "Epoch 36 - Validation: 100%|██████████| 986/986 [00:12<00:00, 81.98it/s]\n"
          ]
        },
        {
          "name": "stdout",
          "output_type": "stream",
          "text": [
            "Best model saved at epoch 36.\n"
          ]
        },
        {
          "name": "stderr",
          "output_type": "stream",
          "text": [
            "Epoch 37 - Training: 100%|██████████| 4604/4604 [02:14<00:00, 34.30it/s]\n",
            "Epoch 37 - Validation: 100%|██████████| 986/986 [00:11<00:00, 82.31it/s]\n",
            "Epoch 38 - Training: 100%|██████████| 4604/4604 [02:14<00:00, 34.35it/s]\n",
            "Epoch 38 - Validation: 100%|██████████| 986/986 [00:11<00:00, 84.07it/s]\n",
            "Epoch 39 - Training: 100%|██████████| 4604/4604 [02:13<00:00, 34.40it/s]\n",
            "Epoch 39 - Validation: 100%|██████████| 986/986 [00:12<00:00, 77.80it/s]\n"
          ]
        },
        {
          "name": "stdout",
          "output_type": "stream",
          "text": [
            "Best model saved at epoch 39.\n"
          ]
        },
        {
          "name": "stderr",
          "output_type": "stream",
          "text": [
            "Epoch 40 - Training: 100%|██████████| 4604/4604 [02:13<00:00, 34.42it/s]\n",
            "Epoch 40 - Validation: 100%|██████████| 986/986 [00:11<00:00, 82.41it/s]\n"
          ]
        },
        {
          "name": "stdout",
          "output_type": "stream",
          "text": [
            "Best model saved at epoch 40.\n"
          ]
        },
        {
          "name": "stderr",
          "output_type": "stream",
          "text": [
            "Epoch 41 - Training: 100%|██████████| 4604/4604 [02:14<00:00, 34.27it/s]\n",
            "Epoch 41 - Validation: 100%|██████████| 986/986 [00:11<00:00, 83.44it/s]\n",
            "Epoch 42 - Training: 100%|██████████| 4604/4604 [02:14<00:00, 34.25it/s]\n",
            "Epoch 42 - Validation: 100%|██████████| 986/986 [00:12<00:00, 81.96it/s]\n",
            "Epoch 43 - Training: 100%|██████████| 4604/4604 [02:14<00:00, 34.30it/s]\n",
            "Epoch 43 - Validation: 100%|██████████| 986/986 [00:11<00:00, 82.67it/s]\n",
            "Epoch 44 - Training: 100%|██████████| 4604/4604 [02:13<00:00, 34.46it/s]\n",
            "Epoch 44 - Validation: 100%|██████████| 986/986 [00:11<00:00, 82.30it/s]\n",
            "Epoch 45 - Training: 100%|██████████| 4604/4604 [02:13<00:00, 34.43it/s]\n",
            "Epoch 45 - Validation: 100%|██████████| 986/986 [00:11<00:00, 83.91it/s]\n",
            "Epoch 46 - Training: 100%|██████████| 4604/4604 [02:13<00:00, 34.36it/s]\n",
            "Epoch 46 - Validation: 100%|██████████| 986/986 [00:11<00:00, 82.43it/s]\n",
            "Epoch 47 - Training: 100%|██████████| 4604/4604 [02:13<00:00, 34.41it/s]\n",
            "Epoch 47 - Validation: 100%|██████████| 986/986 [00:12<00:00, 80.54it/s]\n",
            "Epoch 48 - Training: 100%|██████████| 4604/4604 [02:14<00:00, 34.31it/s]\n",
            "Epoch 48 - Validation: 100%|██████████| 986/986 [00:11<00:00, 84.16it/s]\n",
            "Epoch 49 - Training: 100%|██████████| 4604/4604 [02:13<00:00, 34.37it/s]\n",
            "Epoch 49 - Validation: 100%|██████████| 986/986 [00:11<00:00, 82.65it/s]\n",
            "Epoch 50 - Training: 100%|██████████| 4604/4604 [02:13<00:00, 34.36it/s]\n",
            "Epoch 50 - Validation: 100%|██████████| 986/986 [00:12<00:00, 82.14it/s]\n"
          ]
        }
      ],
      "source": [
        "num_epochs = 50\n",
        "\n",
        "train_losses, train_accuracies, val_losses, val_accuracies = train(\n",
        "    model=model,\n",
        "    optimizer=optimizer,\n",
        "    scheduler=scheduler,\n",
        "    loss_fn=loss_fn,\n",
        "    train_loader=train_loader,\n",
        "    val_loader=val_loader,\n",
        "    num_epochs=num_epochs\n",
        ")"
      ]
    },
    {
      "cell_type": "code",
      "execution_count": 19,
      "metadata": {
        "colab": {
          "base_uri": "https://localhost:8080/",
          "height": 472
        },
        "id": "UbLvSTetHCT-",
        "outputId": "3a0f169d-f87b-4853-b633-b4736fde4499"
      },
      "outputs": [
        {
          "data": {
            "image/png": "[encoded data removed]",
            "text/plain": [
              "<Figure size 640x480 with 1 Axes>"
            ]
          },
          "metadata": {},
          "output_type": "display_data"
        }
      ],
      "source": [
        "plt.plot(train_losses, label=\"Train Losses\")\n",
        "plt.plot(val_losses, label=\"Validation Losses\")\n",
        "plt.xlabel(\"Epoch\")\n",
        "plt.title(\"Training and Validation Losses\")\n",
        "plt.legend()\n",
        "plt.show()"
      ]
    },
    {
      "cell_type": "code",
      "execution_count": 20,
      "metadata": {
        "colab": {
          "base_uri": "https://localhost:8080/",
          "height": 472
        },
        "id": "wkgX0vIMr16C",
        "outputId": "4b87e197-3043-47ca-b7c3-cbc5bd6eb7e7"
      },
      "outputs": [
        {
          "data": {
            "image/png": "[encoded data removed]",
            "text/plain": [
              "<Figure size 640x480 with 1 Axes>"
            ]
          },
          "metadata": {},
          "output_type": "display_data"
        }
      ],
      "source": [
        "plt.plot(train_accuracies, label=\"Train Accuracies\")\n",
        "plt.plot(val_accuracies, label=\"Validation Accuracies\")\n",
        "plt.xlabel(\"Epoch\")\n",
        "plt.title(\"Training and Validation Accuracies\")\n",
        "plt.legend()\n",
        "plt.show()"
      ]
    },
    {
      "cell_type": "code",
      "execution_count": 21,
      "metadata": {
        "id": "LyNGqQKpHCT-"
      },
      "outputs": [],
      "source": [
        "def test_model(loss_fn, model_path='lstm_model.pth'):\n",
        "    # Import saved model\n",
        "    num_classes = len(sorted_labels)\n",
        "    model = StrokeLSTMClassifier(\n",
        "        input_size=3,\n",
        "        hidden_size=128,\n",
        "        num_layers=2,\n",
        "        num_classes=num_classes,\n",
        "        dropout=0.3,\n",
        "        bidirectional=True\n",
        "    ).to(device)\n",
        "\n",
        "    model.load_state_dict(torch.load(model_path))\n",
        "\n",
        "    test_loss = 0.0\n",
        "    correct = 0\n",
        "    total = 0\n",
        "\n",
        "    with torch.no_grad():\n",
        "        for strokes, labels in tqdm(test_loader, desc='Testing'):\n",
        "            strokes, labels = strokes.to(device), labels.to(device)\n",
        "            outputs = model(strokes)\n",
        "            loss = loss_fn(outputs, labels)\n",
        "\n",
        "            test_loss += loss.item() * strokes.size(0)\n",
        "            _, predicted = torch.max(outputs, 1)\n",
        "            total += labels.size(0)\n",
        "            correct += (predicted == labels).sum().item()\n",
        "\n",
        "    avg_test_loss = test_loss / total\n",
        "    test_accuracy = correct / total\n",
        "\n",
        "    return avg_test_loss, test_accuracy"
      ]
    },
    {
      "cell_type": "code",
      "execution_count": 22,
      "metadata": {
        "colab": {
          "base_uri": "https://localhost:8080/"
        },
        "id": "nzmLQPPmHCT_",
        "outputId": "4493ed6d-4521-462c-d237-216503ad54e1"
      },
      "outputs": [
        {
          "name": "stderr",
          "output_type": "stream",
          "text": [
            "<ipython-input-21-e6c943cdcf65>:13: FutureWarning: You are using `torch.load` with `weights_only=False` (the current default value), which uses the default pickle module implicitly. It is possible to construct malicious pickle data which will execute arbitrary code during unpickling (See https://github.com/pytorch/pytorch/blob/main/SECURITY.md#untrusted-models for more details). In a future release, the default value for `weights_only` will be flipped to `True`. This limits the functions that could be executed during unpickling. Arbitrary objects will no longer be allowed to be loaded via this mode unless they are explicitly allowlisted by the user via `torch.serialization.add_safe_globals`. We recommend you start setting `weights_only=True` for any use case where you don't have full control of the loaded file. Please open an issue on GitHub for any issues related to this experimental feature.\n",
            "  model.load_state_dict(torch.load(model_path))\n",
            "Testing: 100%|██████████| 986/986 [00:13<00:00, 75.59it/s]"
          ]
        },
        {
          "name": "stdout",
          "output_type": "stream",
          "text": [
            "Average Test Loss: 3.5935640020738027\n",
            "Test Accuracy: 0.2467355476673428\n"
          ]
        },
        {
          "name": "stderr",
          "output_type": "stream",
          "text": [
            "\n"
          ]
        }
      ],
      "source": [
        "avg_test_loss, test_accuracy = test_model(loss_fn=loss_fn, model_path='lstm_model.pth')\n",
        "print(f\"Average Test Loss: {avg_test_loss}\")\n",
        "print(f\"Test Accuracy: {test_accuracy}\")"
      ]
    }
  ],
  "metadata": {
    "accelerator": "GPU",
    "colab": {
      "gpuType": "T4",
      "provenance": []
    },
    "kernelspec": {
      "display_name": ".venv",
      "language": "python",
      "name": "python3"
    },
    "language_info": {
      "codemirror_mode": {
        "name": "ipython",
        "version": 3
      },
      "file_extension": ".py",
      "mimetype": "text/x-python",
      "name": "python",
      "nbconvert_exporter": "python",
      "pygments_lexer": "ipython3",
      "version": "3.12.3"
    }
  },
  "nbformat": 4,
  "nbformat_minor": 0
}
